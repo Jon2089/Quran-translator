{
 "cells": [
  {
   "cell_type": "code",
   "execution_count": 1,
   "metadata": {},
   "outputs": [
    {
     "name": "stdout",
     "output_type": "stream",
     "text": [
      "CUDA available: True\n",
      "GPU: NVIDIA GeForce RTX 2060 SUPER\n"
     ]
    }
   ],
   "source": [
    "import torch\n",
    "print(\"CUDA available:\", torch.cuda.is_available())\n",
    "print(\"GPU:\", torch.cuda.get_device_name(0))\n"
   ]
  },
  {
   "cell_type": "code",
   "execution_count": 2,
   "metadata": {},
   "outputs": [],
   "source": [
    "import whisper\n",
    "\n",
    "# Load model and move to GPU\n",
    "model = whisper.load_model(\"medium\").to(\"cuda\")\n"
   ]
  },
  {
   "cell_type": "code",
   "execution_count": 90,
   "metadata": {},
   "outputs": [],
   "source": [
    "input_file = \"Quran_recitations/001.mp3\""
   ]
  },
  {
   "cell_type": "code",
   "execution_count": 91,
   "metadata": {},
   "outputs": [
    {
     "name": "stdout",
     "output_type": "stream",
     "text": [
      " الحمد لله رب العالمين الرحمن الرحيم مالك يوم الدين إياك نعبد وإياك نستعين إهدنا الصراط المستقيم صراط الذين أنعمت عليهم غير المغضوب عليهم ولا الضالين آمين\n"
     ]
    }
   ],
   "source": [
    "# Transcribe audio file\n",
    "result = model.transcribe(input_file, language=\"ar\", word_timestamps=True)\n",
    "print(result[\"text\"])"
   ]
  },
  {
   "cell_type": "code",
   "execution_count": 92,
   "metadata": {},
   "outputs": [
    {
     "name": "stdout",
     "output_type": "stream",
     "text": [
      "Word:  الحمد, Start: 0.0, End: 0.78\n",
      "Word:  لله, Start: 0.78, End: 1.56\n",
      "Word:  رب, Start: 1.56, End: 1.92\n",
      "Word:  العالمين, Start: 1.92, End: 4.28\n",
      "Word:  الرحمن, Start: 4.28, End: 5.48\n",
      "Word:  الرحيم, Start: 5.48, End: 6.44\n",
      "Word:  مالك, Start: 6.44, End: 7.2\n",
      "Word:  يوم, Start: 7.2, End: 7.68\n",
      "Word:  الدين, Start: 7.68, End: 9.1\n",
      "Word:  إياك, Start: 9.1, End: 10.02\n",
      "Word:  نعبد, Start: 10.02, End: 10.62\n",
      "Word:  وإياك, Start: 10.62, End: 11.72\n",
      "Word:  نستعين, Start: 11.72, End: 14.04\n",
      "Word:  إهدنا, Start: 14.04, End: 14.8\n",
      "Word:  الصراط, Start: 14.8, End: 15.6\n",
      "Word:  المستقيم, Start: 15.6, End: 17.96\n",
      "Word:  صراط, Start: 17.96, End: 19.06\n",
      "Word:  الذين, Start: 19.06, End: 19.82\n",
      "Word:  أنعمت, Start: 19.82, End: 20.72\n",
      "Word:  عليهم, Start: 20.72, End: 22.02\n",
      "Word:  غير, Start: 22.02, End: 22.76\n",
      "Word:  المغضوب, Start: 22.76, End: 23.86\n",
      "Word:  عليهم, Start: 23.86, End: 24.92\n",
      "Word:  ولا, Start: 24.92, End: 25.34\n",
      "Word:  الضالين, Start: 25.34, End: 32.16\n",
      "Word:  آمين, Start: 32.16, End: 34.2\n"
     ]
    }
   ],
   "source": [
    "for segment in result[\"segments\"]:\n",
    "    for word in segment[\"words\"]:\n",
    "        print(f\"Word: {word['word']}, Start: {word['start']}, End: {word['end']}\")"
   ]
  },
  {
   "cell_type": "code",
   "execution_count": 93,
   "metadata": {},
   "outputs": [
    {
     "name": "stdout",
     "output_type": "stream",
     "text": [
      "[{'id': 0, 'seek': 0, 'start': np.float64(0.0), 'end': np.float64(4.28), 'text': ' الحمد لله رب العالمين', 'tokens': [50364, 21542, 2304, 3215, 24976, 3224, 12602, 3555, 18863, 45340, 9957, 50564], 'temperature': 0.0, 'avg_logprob': -0.13650521738775845, 'compression_ratio': 1.6826923076923077, 'no_speech_prob': 0.21959486603736877, 'words': [{'word': ' الحمد', 'start': np.float64(0.0), 'end': np.float64(0.78), 'probability': np.float64(0.8539891441663107)}, {'word': ' لله', 'start': np.float64(0.78), 'end': np.float64(1.56), 'probability': np.float64(0.9775266647338867)}, {'word': ' رب', 'start': np.float64(1.56), 'end': np.float64(1.92), 'probability': np.float64(0.970398873090744)}, {'word': ' العالمين', 'start': np.float64(1.92), 'end': np.float64(4.28), 'probability': np.float64(0.9965699712435404)}]}, {'id': 1, 'seek': 0, 'start': np.float64(4.28), 'end': np.float64(9.1), 'text': ' الرحمن الرحيم مالك يوم الدين', 'tokens': [50564, 34892, 5016, 27842, 34892, 5016, 32640, 3714, 6027, 4117, 7251, 20498, 32748, 9957, 50814], 'temperature': 0.0, 'avg_logprob': -0.13650521738775845, 'compression_ratio': 1.6826923076923077, 'no_speech_prob': 0.21959486603736877, 'words': [{'word': ' الرحمن', 'start': np.float64(4.28), 'end': np.float64(5.48), 'probability': np.float64(0.9215607047080994)}, {'word': ' الرحيم', 'start': np.float64(5.48), 'end': np.float64(6.44), 'probability': np.float64(0.9919121662775675)}, {'word': ' مالك', 'start': np.float64(6.44), 'end': np.float64(7.2), 'probability': np.float64(0.9603047172228495)}, {'word': ' يوم', 'start': np.float64(7.2), 'end': np.float64(7.68), 'probability': np.float64(0.9959135949611664)}, {'word': ' الدين', 'start': np.float64(7.68), 'end': np.float64(9.1), 'probability': np.float64(0.9900059103965759)}]}, {'id': 2, 'seek': 0, 'start': np.float64(9.1), 'end': np.float64(14.04), 'text': ' إياك نعبد وإياك نستعين', 'tokens': [50814, 11933, 25528, 4117, 8717, 3615, 44510, 4032, 28814, 25528, 4117, 8717, 14851, 3615, 9957, 51064], 'temperature': 0.0, 'avg_logprob': -0.13650521738775845, 'compression_ratio': 1.6826923076923077, 'no_speech_prob': 0.21959486603736877, 'words': [{'word': ' إياك', 'start': np.float64(9.1), 'end': np.float64(10.02), 'probability': np.float64(0.9305888414382935)}, {'word': ' نعبد', 'start': np.float64(10.02), 'end': np.float64(10.62), 'probability': np.float64(0.9816710551579794)}, {'word': ' وإياك', 'start': np.float64(10.62), 'end': np.float64(11.72), 'probability': np.float64(0.9705832153558731)}, {'word': ' نستعين', 'start': np.float64(11.72), 'end': np.float64(14.04), 'probability': np.float64(0.8925213515758514)}]}, {'id': 3, 'seek': 0, 'start': np.float64(14.04), 'end': np.float64(17.96), 'text': ' إهدنا الصراط المستقيم', 'tokens': [51064, 11933, 3224, 3215, 8315, 31767, 2288, 41193, 9673, 14851, 4587, 32640, 51264], 'temperature': 0.0, 'avg_logprob': -0.13650521738775845, 'compression_ratio': 1.6826923076923077, 'no_speech_prob': 0.21959486603736877, 'words': [{'word': ' إهدنا', 'start': np.float64(14.04), 'end': np.float64(14.8), 'probability': np.float64(0.8424299657344818)}, {'word': ' الصراط', 'start': np.float64(14.8), 'end': np.float64(15.6), 'probability': np.float64(0.9070859948794047)}, {'word': ' المستقيم', 'start': np.float64(15.6), 'end': np.float64(17.96), 'probability': np.float64(0.9844426512718201)}]}, {'id': 4, 'seek': 1796, 'start': np.float64(17.96), 'end': np.float64(22.02), 'text': ' صراط الذين أنعمت عليهم', 'tokens': [50364, 20328, 2288, 41193, 32545, 9957, 14739, 25957, 2655, 25894, 16095, 50564], 'temperature': 0.0, 'avg_logprob': -0.15182847976684571, 'compression_ratio': 1.2962962962962963, 'no_speech_prob': 0.6429213881492615, 'words': [{'word': ' صراط', 'start': np.float64(17.96), 'end': np.float64(19.06), 'probability': np.float64(0.451132766281565)}, {'word': ' الذين', 'start': np.float64(19.06), 'end': np.float64(19.82), 'probability': np.float64(0.938399612903595)}, {'word': ' أنعمت', 'start': np.float64(19.82), 'end': np.float64(20.72), 'probability': np.float64(0.9733499685923258)}, {'word': ' عليهم', 'start': np.float64(20.72), 'end': np.float64(22.02), 'probability': np.float64(0.9751894474029541)}]}, {'id': 5, 'seek': 1796, 'start': np.float64(22.02), 'end': np.float64(24.92), 'text': ' غير المغضوب عليهم', 'tokens': [50564, 32771, 13546, 9673, 17082, 11242, 37746, 25894, 16095, 50714], 'temperature': 0.0, 'avg_logprob': -0.15182847976684571, 'compression_ratio': 1.2962962962962963, 'no_speech_prob': 0.6429213881492615, 'words': [{'word': ' غير', 'start': np.float64(22.02), 'end': np.float64(22.76), 'probability': np.float64(0.8932746946811676)}, {'word': ' المغضوب', 'start': np.float64(22.76), 'end': np.float64(23.86), 'probability': np.float64(0.9314974248409271)}, {'word': ' عليهم', 'start': np.float64(23.86), 'end': np.float64(24.92), 'probability': np.float64(0.9956501722335815)}]}, {'id': 6, 'seek': 1796, 'start': np.float64(24.92), 'end': np.float64(32.16), 'text': ' ولا الضالين', 'tokens': [50714, 49429, 6024, 114, 6027, 9957, 51064], 'temperature': 0.0, 'avg_logprob': -0.15182847976684571, 'compression_ratio': 1.2962962962962963, 'no_speech_prob': 0.6429213881492615, 'words': [{'word': ' ولا', 'start': np.float64(24.92), 'end': np.float64(25.34), 'probability': np.float64(0.5039476752281189)}, {'word': ' الضالين', 'start': np.float64(25.34), 'end': np.float64(32.16), 'probability': np.float64(0.9080295562744141)}]}, {'id': 7, 'seek': 1796, 'start': np.float64(32.16), 'end': np.float64(34.2), 'text': ' آمين', 'tokens': [51064, 19753, 2304, 9957, 51164], 'temperature': 0.0, 'avg_logprob': -0.15182847976684571, 'compression_ratio': 1.2962962962962963, 'no_speech_prob': 0.6429213881492615, 'words': [{'word': ' آمين', 'start': np.float64(32.16), 'end': np.float64(34.2), 'probability': np.float64(0.7899147272109985)}]}]\n"
     ]
    }
   ],
   "source": [
    "print(result['segments'])"
   ]
  },
  {
   "cell_type": "code",
   "execution_count": 94,
   "metadata": {},
   "outputs": [],
   "source": [
    "whisper_output = result"
   ]
  },
  {
   "cell_type": "code",
   "execution_count": 83,
   "metadata": {},
   "outputs": [
    {
     "name": "stdout",
     "output_type": "stream",
     "text": [
      "SRT file generated successfully: subtitles/078.srt\n"
     ]
    }
   ],
   "source": [
    "import re\n",
    "import json\n",
    "from difflib import SequenceMatcher\n",
    "\n",
    "def normalize_arabic(text):\n",
    "    # Strip leading/trailing whitespace first\n",
    "    text = text.strip()\n",
    "    # Remove leading numbers with optional punctuation and spaces\n",
    "    text = re.sub(r'^[0-9]+[.:،]?\\s*', '', text)\n",
    "    # Remove tatweel (ـ) and diacritics\n",
    "    text = re.sub(r'[\\u0640]', '', text)\n",
    "    text = re.sub(r'[\\u064b-\\u065f]', '', text)\n",
    "    # Remove extra spaces\n",
    "    text = re.sub(r'\\s+', ' ', text).strip()\n",
    "    return text\n",
    "\n",
    "\n",
    "def similar(a, b):\n",
    "    return SequenceMatcher(None, a, b).ratio()\n",
    "\n",
    "def find_best_match(verse_words, whisper_words, start_idx):\n",
    "    \"\"\"Find the best matching sequence in Whisper words using fuzzy matching.\"\"\"\n",
    "    best_match_idx = None\n",
    "    best_score = 0\n",
    "    for i in range(start_idx, len(whisper_words) - len(verse_words) + 1):\n",
    "        # Compute average similarity across words\n",
    "        match_score = sum(similar(whisper_words[i + j]['text'], verse_words[j]) for j in range(len(verse_words))) / len(verse_words)\n",
    "        if match_score > best_score:\n",
    "            best_score = match_score\n",
    "            best_match_idx = i\n",
    "    return best_match_idx if best_score > 0.7 else None  # threshold can be adjusted\n",
    "\n",
    "def to_srt_time(seconds):\n",
    "    hours = int(seconds // 3600)\n",
    "    minutes = int((seconds % 3600) // 60)\n",
    "    seconds = seconds % 60\n",
    "    return f\"{hours:02}:{minutes:02}:{seconds:06.3f}\".replace('.', ',')\n",
    "\n",
    "# Load Quran verses and translations\n",
    "with open('quran.json', encoding='utf-8') as f:\n",
    "    quran = json.load(f)\n",
    "with open('translation.json', encoding='utf-8') as f:\n",
    "    translations = json.load(f)\n",
    "\n",
    "# Prepare Whisper words (assumes whisper_output is already defined)\n",
    "whisper_words = []\n",
    "for segment in whisper_output['segments']:\n",
    "    for word_info in segment['words']:\n",
    "        word = normalize_arabic(word_info['word'])\n",
    "        if word:  # Only add if it's not an empty string\n",
    "            whisper_words.append({\n",
    "                'text': word,\n",
    "                'start': word_info['start'],\n",
    "                'end': word_info['end']\n",
    "            })\n",
    "\n",
    "\n",
    "# Align verses\n",
    "current_idx = 0\n",
    "subtitles = []\n",
    "\n",
    "# Skip verse 1:1 (basmala) by filtering it out\n",
    "sorted_verses = sorted(quran.keys(), key=lambda x: (int(x.split(':')[0]), int(x.split(':')[1])))\n",
    "filtered_verses = [vk for vk in sorted_verses if vk != \"1:1\"]\n",
    "\n",
    "for verse_key in filtered_verses:\n",
    "    verse_ar = normalize_arabic(quran[verse_key])\n",
    "    verse_words = verse_ar.split()\n",
    "    \n",
    "    match_start = find_best_match(verse_words, whisper_words, current_idx)\n",
    "    if match_start is not None:\n",
    "        start_time = whisper_words[match_start]['start']\n",
    "        end_time = whisper_words[match_start + len(verse_words) - 1]['end']\n",
    "        current_idx = match_start + len(verse_words)\n",
    "        \n",
    "        subtitles.append({\n",
    "            'verse': verse_key,\n",
    "            'start': start_time,\n",
    "            'end': end_time,\n",
    "            'translation': translations.get(verse_key, \"Translation not found\")\n",
    "        })\n",
    "\n",
    "# (Optional) Adjust timing to prevent gaps between subtitles\n",
    "for i in range(len(subtitles) - 1):\n",
    "    if subtitles[i]['end'] < subtitles[i+1]['start']:\n",
    "        subtitles[i]['end'] = subtitles[i+1]['start']\n",
    "\n",
    "# Generate SRT file\n",
    "srt_content = []\n",
    "for idx, sub in enumerate(subtitles, 1):\n",
    "    start = to_srt_time(sub['start'])\n",
    "    end = to_srt_time(sub['end'])\n",
    "    srt_content.append(f\"{idx}\\n{start} --> {end}\\n{sub['translation']}\\n\")\n",
    "\n",
    "# Assuming the output file naming based on input_file variable\n",
    "output_file = f\"subtitles/{input_file.split('/')[-1].split('.')[0]}.srt\"\n",
    "with open(output_file, 'w', encoding='utf-8') as f:\n",
    "    f.write('\\n'.join(srt_content))\n",
    "\n",
    "print(f\"SRT file generated successfully: {output_file}\")\n"
   ]
  },
  {
   "cell_type": "code",
   "execution_count": 84,
   "metadata": {},
   "outputs": [
    {
     "name": "stdout",
     "output_type": "stream",
     "text": [
      "[{'text': 'عن', 'start': np.float64(0.7), 'end': np.float64(1.06)}, {'text': 'ما', 'start': np.float64(1.06), 'end': np.float64(1.36)}, {'text': 'يتساءلون', 'start': np.float64(1.36), 'end': np.float64(5.32)}, {'text': 'عن', 'start': np.float64(5.32), 'end': np.float64(5.74)}, {'text': 'النبأ', 'start': np.float64(5.74), 'end': np.float64(6.72)}, {'text': 'العظيم', 'start': np.float64(6.72), 'end': np.float64(8.28)}, {'text': 'الذي', 'start': np.float64(8.7), 'end': np.float64(9.12)}, {'text': 'هم', 'start': np.float64(9.12), 'end': np.float64(9.66)}, {'text': 'فيه', 'start': np.float64(9.66), 'end': np.float64(10.0)}, {'text': 'مختلفون', 'start': np.float64(10.0), 'end': np.float64(11.82)}, {'text': 'كلا', 'start': np.float64(12.06), 'end': np.float64(12.6)}, {'text': 'سيعلمون', 'start': np.float64(12.6), 'end': np.float64(14.46)}, {'text': 'ثم', 'start': np.float64(14.68), 'end': np.float64(15.26)}, {'text': 'كلا', 'start': np.float64(15.26), 'end': np.float64(15.9)}, {'text': 'سيعلمون', 'start': np.float64(15.9), 'end': np.float64(17.74)}, {'text': 'ألم', 'start': np.float64(17.94), 'end': np.float64(18.42)}, {'text': 'نجعل', 'start': np.float64(18.42), 'end': np.float64(19.02)}, {'text': 'الأرض', 'start': np.float64(19.02), 'end': np.float64(19.62)}, {'text': 'مهدادا', 'start': np.float64(19.62), 'end': np.float64(20.52)}, {'text': 'والجبال', 'start': np.float64(20.76), 'end': np.float64(21.56)}, {'text': 'أوتادا', 'start': np.float64(21.56), 'end': np.float64(22.58)}, {'text': 'وخنقناكم', 'start': np.float64(22.78), 'end': np.float64(23.96)}, {'text': 'أزواجا', 'start': np.float64(23.96), 'end': np.float64(25.18)}, {'text': 'وجعنا', 'start': np.float64(25.18), 'end': np.float64(26.06)}, {'text': 'نومكم', 'start': np.float64(26.06), 'end': np.float64(26.84)}, {'text': 'سباتا', 'start': np.float64(26.84), 'end': np.float64(27.9)}, {'text': 'وجعنا', 'start': np.float64(27.9), 'end': np.float64(28.64)}, {'text': 'الليل', 'start': np.float64(28.64), 'end': np.float64(29.16)}, {'text': 'نباسا', 'start': np.float64(29.16), 'end': np.float64(30.18)}, {'text': 'وجعنا', 'start': np.float64(30.28), 'end': np.float64(31.68)}, {'text': 'النهار', 'start': np.float64(31.68), 'end': np.float64(32.62)}, {'text': 'معاشا', 'start': np.float64(32.62), 'end': np.float64(33.64)}, {'text': 'وبنينا', 'start': np.float64(36.24), 'end': np.float64(37.1)}, {'text': 'فوقكم', 'start': np.float64(37.1), 'end': np.float64(37.84)}, {'text': 'سبعا', 'start': np.float64(37.84), 'end': np.float64(39.04)}, {'text': 'شدادا', 'start': np.float64(39.04), 'end': 39.9}, {'text': 'وجعنا', 'start': np.float64(40.94), 'end': np.float64(41.82)}, {'text': 'سراجا', 'start': np.float64(41.82), 'end': np.float64(43.06)}, {'text': 'وهاجا', 'start': np.float64(43.06), 'end': np.float64(44.28)}, {'text': 'وأنزلنا', 'start': np.float64(44.28), 'end': np.float64(45.68)}, {'text': 'من', 'start': np.float64(45.68), 'end': np.float64(45.96)}, {'text': 'المحصرات', 'start': np.float64(45.96), 'end': np.float64(47.06)}, {'text': 'ماء', 'start': np.float64(47.06), 'end': np.float64(48.28)}, {'text': 'ثجاجا', 'start': np.float64(48.28), 'end': np.float64(50.1)}, {'text': 'لنخرج', 'start': np.float64(50.72), 'end': np.float64(51.52)}, {'text': 'به', 'start': np.float64(51.52), 'end': np.float64(51.9)}, {'text': 'حبا', 'start': np.float64(51.9), 'end': np.float64(53.24)}, {'text': 'ونباتا', 'start': np.float64(53.24), 'end': np.float64(54.58)}, {'text': 'جنات', 'start': np.float64(54.62), 'end': np.float64(55.64)}, {'text': 'ألفافا', 'start': np.float64(55.64), 'end': np.float64(56.98)}, {'text': 'إن', 'start': np.float64(57.68), 'end': np.float64(57.86)}, {'text': 'يوم', 'start': np.float64(57.86), 'end': np.float64(58.32)}, {'text': 'الفصل', 'start': np.float64(58.32), 'end': np.float64(58.96)}, {'text': 'كان', 'start': np.float64(58.96), 'end': np.float64(59.42)}, {'text': 'ميقوة', 'start': np.float64(59.42), 'end': np.float64(60.52)}, {'text': 'يوم', 'start': np.float64(60.96), 'end': np.float64(61.38)}, {'text': 'ينفخ', 'start': np.float64(61.38), 'end': np.float64(62.3)}, {'text': 'في', 'start': np.float64(62.3), 'end': np.float64(62.52)}, {'text': 'الصور', 'start': np.float64(62.52), 'end': np.float64(64.84)}, {'text': 'فتأتون', 'start': np.float64(69.0), 'end': np.float64(69.94)}, {'text': 'أفواجا', 'start': np.float64(69.94), 'end': np.float64(71.34)}, {'text': 'وختحت', 'start': np.float64(71.34), 'end': np.float64(72.06)}, {'text': 'السماء', 'start': np.float64(72.06), 'end': np.float64(75.2)}, {'text': 'فكانت', 'start': np.float64(79.24), 'end': np.float64(80.18)}, {'text': 'أبوابا', 'start': np.float64(80.18), 'end': np.float64(81.76)}, {'text': 'سيرت', 'start': np.float64(81.9), 'end': np.float64(82.64)}, {'text': 'الجبال', 'start': np.float64(82.64), 'end': np.float64(83.48)}, {'text': 'فكانت', 'start': np.float64(83.48), 'end': np.float64(84.36)}, {'text': 'سرابا', 'start': np.float64(84.36), 'end': np.float64(85.62)}, {'text': 'إن', 'start': np.float64(85.94), 'end': np.float64(87.34)}, {'text': 'جهنم', 'start': np.float64(87.34), 'end': np.float64(89.16)}, {'text': 'كانت', 'start': np.float64(89.16), 'end': np.float64(90.02)}, {'text': 'مرصادا', 'start': np.float64(90.02), 'end': np.float64(91.42)}, {'text': 'للطاذين', 'start': np.float64(97.0), 'end': np.float64(98.34)}, {'text': 'مآبا', 'start': np.float64(98.34), 'end': np.float64(99.64)}, {'text': 'لابثين', 'start': np.float64(99.64), 'end': np.float64(100.64)}, {'text': 'فيها', 'start': np.float64(100.64), 'end': np.float64(102.86)}, {'text': 'أحقابا', 'start': np.float64(102.86), 'end': np.float64(109.12)}, {'text': 'لا', 'start': np.float64(109.12), 'end': np.float64(109.24)}, {'text': 'يذوقون', 'start': np.float64(109.24), 'end': np.float64(110.48)}, {'text': 'فيها', 'start': np.float64(110.48), 'end': np.float64(111.38)}, {'text': 'برد', 'start': np.float64(111.38), 'end': np.float64(111.96)}, {'text': 'ولا', 'start': np.float64(111.96), 'end': np.float64(112.78)}, {'text': 'شرابا', 'start': np.float64(112.78), 'end': np.float64(119.82)}, {'text': 'إلا', 'start': np.float64(120.02), 'end': np.float64(120.7)}, {'text': 'حميم', 'start': np.float64(120.7), 'end': np.float64(121.42)}, {'text': 'أو', 'start': np.float64(121.42), 'end': np.float64(122.6)}, {'text': 'غساقا', 'start': np.float64(122.6), 'end': np.float64(127.4)}, {'text': 'جزاء', 'start': np.float64(128.14), 'end': np.float64(129.54)}, {'text': 'أو', 'start': np.float64(129.54), 'end': np.float64(130.52)}, {'text': 'وفاقا', 'start': np.float64(130.52), 'end': np.float64(131.88)}, {'text': 'إنهم', 'start': np.float64(131.88), 'end': np.float64(132.9)}, {'text': 'كانوا', 'start': np.float64(132.9), 'end': np.float64(133.58)}, {'text': 'لا', 'start': np.float64(133.58), 'end': np.float64(133.9)}, {'text': 'يرجون', 'start': np.float64(133.9), 'end': np.float64(134.72)}, {'text': 'حسابا', 'start': np.float64(134.72), 'end': np.float64(136.14)}, {'text': 'وكذبوا', 'start': np.float64(136.14), 'end': np.float64(137.08)}, {'text': 'بآياتنا', 'start': np.float64(137.08), 'end': np.float64(138.36)}, {'text': 'كذابا', 'start': np.float64(138.36), 'end': np.float64(140.36)}, {'text': 'وكل', 'start': np.float64(140.36), 'end': np.float64(140.96)}, {'text': 'شيء', 'start': np.float64(140.96), 'end': np.float64(141.62)}, {'text': 'نحصيناه', 'start': np.float64(141.62), 'end': np.float64(146.24)}, {'text': 'كتابا', 'start': np.float64(146.24), 'end': np.float64(147.64)}, {'text': 'فذوقوا', 'start': np.float64(149.36), 'end': np.float64(150.76)}, {'text': 'فلم', 'start': np.float64(150.76), 'end': np.float64(151.42)}, {'text': 'نزيدكم', 'start': np.float64(151.42), 'end': np.float64(152.46)}, {'text': 'إلا', 'start': np.float64(152.46), 'end': np.float64(153.04)}, {'text': 'عذابا', 'start': np.float64(153.04), 'end': 154.14}, {'text': 'إن', 'start': np.float64(154.66), 'end': np.float64(155.62)}, {'text': 'للمتقين', 'start': np.float64(155.62), 'end': np.float64(156.98)}, {'text': 'مفازا', 'start': np.float64(156.98), 'end': np.float64(158.54)}, {'text': 'هدائق', 'start': np.float64(159.04), 'end': np.float64(160.44)}, {'text': 'وأعنابا', 'start': np.float64(160.44), 'end': np.float64(162.14)}, {'text': 'وكواعب', 'start': np.float64(162.14), 'end': np.float64(163.18)}, {'text': 'أترابا', 'start': np.float64(163.18), 'end': 164.14}, {'text': 'وكأسا', 'start': np.float64(165.14), 'end': np.float64(166.54)}, {'text': 'دهاقا', 'start': np.float64(166.54), 'end': np.float64(167.23999999999998)}, {'text': 'لا', 'start': np.float64(168.34), 'end': np.float64(168.72)}, {'text': 'يسمعون', 'start': np.float64(168.72), 'end': np.float64(169.66)}, {'text': 'فيها', 'start': np.float64(169.66), 'end': np.float64(170.26)}, {'text': 'لغوا', 'start': np.float64(170.26), 'end': np.float64(171.24)}, {'text': 'ولا', 'start': np.float64(171.24), 'end': np.float64(171.78)}, {'text': 'كذابا', 'start': np.float64(171.78), 'end': np.float64(172.48)}, {'text': 'جزاء', 'start': np.float64(173.5), 'end': np.float64(174.9)}, {'text': 'من', 'start': np.float64(174.9), 'end': np.float64(175.44)}, {'text': 'ربك', 'start': np.float64(175.44), 'end': np.float64(176.08)}, {'text': 'عطاء', 'start': np.float64(176.08), 'end': np.float64(177.86)}, {'text': 'حسابا', 'start': np.float64(177.86), 'end': np.float64(178.56)}, {'text': 'رب', 'start': np.float64(179.44), 'end': np.float64(179.86)}, {'text': 'السماوات', 'start': np.float64(179.86), 'end': np.float64(180.9)}, {'text': 'والأرض', 'start': np.float64(180.9), 'end': np.float64(181.56)}, {'text': 'وما', 'start': np.float64(181.56), 'end': np.float64(182.16)}, {'text': 'بينهما', 'start': np.float64(182.16), 'end': np.float64(182.98)}, {'text': 'الرحمن', 'start': np.float64(182.98), 'end': np.float64(185.4)}, {'text': 'لا', 'start': np.float64(185.4), 'end': np.float64(186.94)}, {'text': 'يملكون', 'start': np.float64(186.94), 'end': np.float64(187.92)}, {'text': 'منه', 'start': np.float64(187.92), 'end': np.float64(188.46)}, {'text': 'خطابا', 'start': np.float64(188.46), 'end': np.float64(189.16)}, {'text': 'يوم', 'start': np.float64(189.84), 'end': np.float64(190.32)}, {'text': 'يقوم', 'start': np.float64(190.32), 'end': np.float64(191.04)}, {'text': 'الروح', 'start': np.float64(191.04), 'end': np.float64(191.76)}, {'text': 'والملائك', 'start': np.float64(191.76), 'end': np.float64(194.4)}, {'text': 'تصفا', 'start': np.float64(194.4), 'end': np.float64(200.58)}, {'text': 'لا', 'start': np.float64(200.58), 'end': np.float64(201.18)}, {'text': 'يتكلمون', 'start': np.float64(201.18), 'end': np.float64(216.5)}, {'text': 'إلا', 'start': np.float64(216.84), 'end': np.float64(217.14)}, {'text': 'من', 'start': np.float64(217.14), 'end': np.float64(217.58)}, {'text': 'أدن', 'start': np.float64(217.58), 'end': np.float64(218.12)}, {'text': 'له', 'start': np.float64(218.12), 'end': np.float64(218.46)}, {'text': 'الرحمن', 'start': np.float64(218.46), 'end': np.float64(224.24)}, {'text': 'وقان', 'start': np.float64(224.24), 'end': np.float64(225.16)}, {'text': 'صابا', 'start': np.float64(225.16), 'end': np.float64(226.76)}, {'text': 'ذلك', 'start': np.float64(226.76), 'end': np.float64(227.58)}, {'text': 'اليوم', 'start': np.float64(227.58), 'end': np.float64(228.32)}, {'text': 'الحق', 'start': np.float64(228.32), 'end': np.float64(229.38)}, {'text': 'فمن', 'start': np.float64(229.74), 'end': np.float64(231.06)}, {'text': 'شاء', 'start': np.float64(231.06), 'end': np.float64(233.04)}, {'text': 'اتفذ', 'start': np.float64(233.04), 'end': np.float64(233.72)}, {'text': 'إلى', 'start': np.float64(233.72), 'end': np.float64(234.22)}, {'text': 'ربه', 'start': np.float64(234.22), 'end': np.float64(235.08)}, {'text': 'مآبا', 'start': np.float64(235.08), 'end': np.float64(236.54)}, {'text': 'إنا', 'start': np.float64(238.72), 'end': np.float64(240.12)}, {'text': 'أنذر', 'start': np.float64(240.12), 'end': np.float64(242.24)}, {'text': 'لكم', 'start': np.float64(242.24), 'end': np.float64(242.9)}, {'text': 'عذابا', 'start': np.float64(242.9), 'end': np.float64(244.96)}, {'text': 'قريبا', 'start': np.float64(244.96), 'end': np.float64(245.66)}, {'text': 'يوم', 'start': np.float64(246.28), 'end': np.float64(246.82)}, {'text': 'ينظر', 'start': np.float64(246.82), 'end': np.float64(248.0)}, {'text': 'المرء', 'start': np.float64(248.0), 'end': np.float64(248.62)}, {'text': 'ما', 'start': np.float64(248.62), 'end': np.float64(249.22)}, {'text': 'قدمت', 'start': np.float64(249.22), 'end': np.float64(250.1)}, {'text': 'يداه', 'start': np.float64(250.1), 'end': np.float64(259.92)}, {'text': 'ويقول', 'start': np.float64(260.18), 'end': np.float64(261.14)}, {'text': 'الكافر', 'start': np.float64(261.14), 'end': np.float64(262.24)}, {'text': 'يا', 'start': np.float64(262.24), 'end': np.float64(262.82)}, {'text': 'ليتني', 'start': np.float64(262.82), 'end': np.float64(263.94)}, {'text': 'كنت', 'start': np.float64(263.94), 'end': np.float64(265.44)}, {'text': 'ترابا', 'start': np.float64(265.44), 'end': np.float64(267.6)}]\n"
     ]
    }
   ],
   "source": [
    "print(whisper_words)"
   ]
  },
  {
   "cell_type": "code",
   "execution_count": 85,
   "metadata": {},
   "outputs": [
    {
     "data": {
      "text/plain": [
       "' 9. عن ما يتساءلون 10. عن النبأ العظيم 11. الذي هم فيه مختلفون 12. كلا سيعلمون 13. ثم كلا سيعلمون 14. ألم نجعل الأرض مهدادا 15. والجبال أوتادا 16. وخنقناكم أزواجا 17. وجعنا نومكم سباتا 18. وجعنا الليل نباسا 19. وجعنا النهار معاشا 20. وبنينا فوقكم سبعا شدادا 21. وجعنا سراجا وهاجا 22. وأنزلنا من المحصرات ماء ثجاجا 23. لنخرج به حبا ونباتا 24. جنات ألفافا 25. إن يوم الفصل كان ميقوة 26. يوم ينفخ في الصور 27. فتأتون أفواجا 28. وختحت السماء 29. فكانت أبوابا 30. سيرت الجبال فكانت سرابا 31. إن جهنم كانت مرصادا 32. للطاذين مآبا 33. لابثين فيها أحقابا 34. لا يذوقون فيها برد ولا شرابا 35. إلا حميم أو غساقا 36. جزاء أو وفاقا 37. إنهم كانوا لا يرجون حسابا 38. وكذبوا بآياتنا كذابا 39. وكل شيء نحصيناه كتابا 40. فذوقوا فلم نزيدكم إلا عذابا 41. إن للمتقين مفازا 42. هدائق وأعنابا 43. وكواعب أترابا 44. وكأسا دهاقا 45. لا يسمعون فيها لغوا ولا كذابا 46. جزاء من ربك عطاء حسابا 47. رب السماوات والأرض وما بينهما الرحمن لا يملكون منه خطابا 48. يوم يقوم الروح والملائك تصفا لا يتكلمون 49. إلا من أدن له الرحمن وقان صابا 50. ذلك اليوم الحق 51. فمن شاء اتفذ إلى ربه مآبا 52. إنا أنذر لكم عذابا قريبا 53. يوم ينظر المرء ما قدمت يداه 54. ويقول الكافر يا ليتني كنت ترابا'"
      ]
     },
     "execution_count": 85,
     "metadata": {},
     "output_type": "execute_result"
    }
   ],
   "source": [
    "result['text']"
   ]
  },
  {
   "cell_type": "code",
   "execution_count": 86,
   "metadata": {},
   "outputs": [
    {
     "name": "stdout",
     "output_type": "stream",
     "text": [
      "[{'text': 'عن', 'start': np.float64(0.7), 'end': np.float64(1.06)}, {'text': 'ما', 'start': np.float64(1.06), 'end': np.float64(1.36)}, {'text': 'يتساءلون', 'start': np.float64(1.36), 'end': np.float64(5.32)}, {'text': 'عن', 'start': np.float64(5.32), 'end': np.float64(5.74)}, {'text': 'النبأ', 'start': np.float64(5.74), 'end': np.float64(6.72)}, {'text': 'العظيم', 'start': np.float64(6.72), 'end': np.float64(8.28)}, {'text': 'الذي', 'start': np.float64(8.7), 'end': np.float64(9.12)}, {'text': 'هم', 'start': np.float64(9.12), 'end': np.float64(9.66)}, {'text': 'فيه', 'start': np.float64(9.66), 'end': np.float64(10.0)}, {'text': 'مختلفون', 'start': np.float64(10.0), 'end': np.float64(11.82)}, {'text': 'كلا', 'start': np.float64(12.06), 'end': np.float64(12.6)}, {'text': 'سيعلمون', 'start': np.float64(12.6), 'end': np.float64(14.46)}, {'text': 'ثم', 'start': np.float64(14.68), 'end': np.float64(15.26)}, {'text': 'كلا', 'start': np.float64(15.26), 'end': np.float64(15.9)}, {'text': 'سيعلمون', 'start': np.float64(15.9), 'end': np.float64(17.74)}, {'text': 'ألم', 'start': np.float64(17.94), 'end': np.float64(18.42)}, {'text': 'نجعل', 'start': np.float64(18.42), 'end': np.float64(19.02)}, {'text': 'الأرض', 'start': np.float64(19.02), 'end': np.float64(19.62)}, {'text': 'مهدادا', 'start': np.float64(19.62), 'end': np.float64(20.52)}, {'text': 'والجبال', 'start': np.float64(20.76), 'end': np.float64(21.56)}, {'text': 'أوتادا', 'start': np.float64(21.56), 'end': np.float64(22.58)}, {'text': 'وخنقناكم', 'start': np.float64(22.78), 'end': np.float64(23.96)}, {'text': 'أزواجا', 'start': np.float64(23.96), 'end': np.float64(25.18)}, {'text': 'وجعنا', 'start': np.float64(25.18), 'end': np.float64(26.06)}, {'text': 'نومكم', 'start': np.float64(26.06), 'end': np.float64(26.84)}, {'text': 'سباتا', 'start': np.float64(26.84), 'end': np.float64(27.9)}, {'text': 'وجعنا', 'start': np.float64(27.9), 'end': np.float64(28.64)}, {'text': 'الليل', 'start': np.float64(28.64), 'end': np.float64(29.16)}, {'text': 'نباسا', 'start': np.float64(29.16), 'end': np.float64(30.18)}, {'text': 'وجعنا', 'start': np.float64(30.28), 'end': np.float64(31.68)}, {'text': 'النهار', 'start': np.float64(31.68), 'end': np.float64(32.62)}, {'text': 'معاشا', 'start': np.float64(32.62), 'end': np.float64(33.64)}, {'text': 'وبنينا', 'start': np.float64(36.24), 'end': np.float64(37.1)}, {'text': 'فوقكم', 'start': np.float64(37.1), 'end': np.float64(37.84)}, {'text': 'سبعا', 'start': np.float64(37.84), 'end': np.float64(39.04)}, {'text': 'شدادا', 'start': np.float64(39.04), 'end': 39.9}, {'text': 'وجعنا', 'start': np.float64(40.94), 'end': np.float64(41.82)}, {'text': 'سراجا', 'start': np.float64(41.82), 'end': np.float64(43.06)}, {'text': 'وهاجا', 'start': np.float64(43.06), 'end': np.float64(44.28)}, {'text': 'وأنزلنا', 'start': np.float64(44.28), 'end': np.float64(45.68)}, {'text': 'من', 'start': np.float64(45.68), 'end': np.float64(45.96)}, {'text': 'المحصرات', 'start': np.float64(45.96), 'end': np.float64(47.06)}, {'text': 'ماء', 'start': np.float64(47.06), 'end': np.float64(48.28)}, {'text': 'ثجاجا', 'start': np.float64(48.28), 'end': np.float64(50.1)}, {'text': 'لنخرج', 'start': np.float64(50.72), 'end': np.float64(51.52)}, {'text': 'به', 'start': np.float64(51.52), 'end': np.float64(51.9)}, {'text': 'حبا', 'start': np.float64(51.9), 'end': np.float64(53.24)}, {'text': 'ونباتا', 'start': np.float64(53.24), 'end': np.float64(54.58)}, {'text': 'جنات', 'start': np.float64(54.62), 'end': np.float64(55.64)}, {'text': 'ألفافا', 'start': np.float64(55.64), 'end': np.float64(56.98)}, {'text': 'إن', 'start': np.float64(57.68), 'end': np.float64(57.86)}, {'text': 'يوم', 'start': np.float64(57.86), 'end': np.float64(58.32)}, {'text': 'الفصل', 'start': np.float64(58.32), 'end': np.float64(58.96)}, {'text': 'كان', 'start': np.float64(58.96), 'end': np.float64(59.42)}, {'text': 'ميقوة', 'start': np.float64(59.42), 'end': np.float64(60.52)}, {'text': 'يوم', 'start': np.float64(60.96), 'end': np.float64(61.38)}, {'text': 'ينفخ', 'start': np.float64(61.38), 'end': np.float64(62.3)}, {'text': 'في', 'start': np.float64(62.3), 'end': np.float64(62.52)}, {'text': 'الصور', 'start': np.float64(62.52), 'end': np.float64(64.84)}, {'text': 'فتأتون', 'start': np.float64(69.0), 'end': np.float64(69.94)}, {'text': 'أفواجا', 'start': np.float64(69.94), 'end': np.float64(71.34)}, {'text': 'وختحت', 'start': np.float64(71.34), 'end': np.float64(72.06)}, {'text': 'السماء', 'start': np.float64(72.06), 'end': np.float64(75.2)}, {'text': 'فكانت', 'start': np.float64(79.24), 'end': np.float64(80.18)}, {'text': 'أبوابا', 'start': np.float64(80.18), 'end': np.float64(81.76)}, {'text': 'سيرت', 'start': np.float64(81.9), 'end': np.float64(82.64)}, {'text': 'الجبال', 'start': np.float64(82.64), 'end': np.float64(83.48)}, {'text': 'فكانت', 'start': np.float64(83.48), 'end': np.float64(84.36)}, {'text': 'سرابا', 'start': np.float64(84.36), 'end': np.float64(85.62)}, {'text': 'إن', 'start': np.float64(85.94), 'end': np.float64(87.34)}, {'text': 'جهنم', 'start': np.float64(87.34), 'end': np.float64(89.16)}, {'text': 'كانت', 'start': np.float64(89.16), 'end': np.float64(90.02)}, {'text': 'مرصادا', 'start': np.float64(90.02), 'end': np.float64(91.42)}, {'text': 'للطاذين', 'start': np.float64(97.0), 'end': np.float64(98.34)}, {'text': 'مآبا', 'start': np.float64(98.34), 'end': np.float64(99.64)}, {'text': 'لابثين', 'start': np.float64(99.64), 'end': np.float64(100.64)}, {'text': 'فيها', 'start': np.float64(100.64), 'end': np.float64(102.86)}, {'text': 'أحقابا', 'start': np.float64(102.86), 'end': np.float64(109.12)}, {'text': 'لا', 'start': np.float64(109.12), 'end': np.float64(109.24)}, {'text': 'يذوقون', 'start': np.float64(109.24), 'end': np.float64(110.48)}, {'text': 'فيها', 'start': np.float64(110.48), 'end': np.float64(111.38)}, {'text': 'برد', 'start': np.float64(111.38), 'end': np.float64(111.96)}, {'text': 'ولا', 'start': np.float64(111.96), 'end': np.float64(112.78)}, {'text': 'شرابا', 'start': np.float64(112.78), 'end': np.float64(119.82)}, {'text': 'إلا', 'start': np.float64(120.02), 'end': np.float64(120.7)}, {'text': 'حميم', 'start': np.float64(120.7), 'end': np.float64(121.42)}, {'text': 'أو', 'start': np.float64(121.42), 'end': np.float64(122.6)}, {'text': 'غساقا', 'start': np.float64(122.6), 'end': np.float64(127.4)}, {'text': 'جزاء', 'start': np.float64(128.14), 'end': np.float64(129.54)}, {'text': 'أو', 'start': np.float64(129.54), 'end': np.float64(130.52)}, {'text': 'وفاقا', 'start': np.float64(130.52), 'end': np.float64(131.88)}, {'text': 'إنهم', 'start': np.float64(131.88), 'end': np.float64(132.9)}, {'text': 'كانوا', 'start': np.float64(132.9), 'end': np.float64(133.58)}, {'text': 'لا', 'start': np.float64(133.58), 'end': np.float64(133.9)}, {'text': 'يرجون', 'start': np.float64(133.9), 'end': np.float64(134.72)}, {'text': 'حسابا', 'start': np.float64(134.72), 'end': np.float64(136.14)}, {'text': 'وكذبوا', 'start': np.float64(136.14), 'end': np.float64(137.08)}, {'text': 'بآياتنا', 'start': np.float64(137.08), 'end': np.float64(138.36)}, {'text': 'كذابا', 'start': np.float64(138.36), 'end': np.float64(140.36)}, {'text': 'وكل', 'start': np.float64(140.36), 'end': np.float64(140.96)}, {'text': 'شيء', 'start': np.float64(140.96), 'end': np.float64(141.62)}, {'text': 'نحصيناه', 'start': np.float64(141.62), 'end': np.float64(146.24)}, {'text': 'كتابا', 'start': np.float64(146.24), 'end': np.float64(147.64)}, {'text': 'فذوقوا', 'start': np.float64(149.36), 'end': np.float64(150.76)}, {'text': 'فلم', 'start': np.float64(150.76), 'end': np.float64(151.42)}, {'text': 'نزيدكم', 'start': np.float64(151.42), 'end': np.float64(152.46)}, {'text': 'إلا', 'start': np.float64(152.46), 'end': np.float64(153.04)}, {'text': 'عذابا', 'start': np.float64(153.04), 'end': 154.14}, {'text': 'إن', 'start': np.float64(154.66), 'end': np.float64(155.62)}, {'text': 'للمتقين', 'start': np.float64(155.62), 'end': np.float64(156.98)}, {'text': 'مفازا', 'start': np.float64(156.98), 'end': np.float64(158.54)}, {'text': 'هدائق', 'start': np.float64(159.04), 'end': np.float64(160.44)}, {'text': 'وأعنابا', 'start': np.float64(160.44), 'end': np.float64(162.14)}, {'text': 'وكواعب', 'start': np.float64(162.14), 'end': np.float64(163.18)}, {'text': 'أترابا', 'start': np.float64(163.18), 'end': 164.14}, {'text': 'وكأسا', 'start': np.float64(165.14), 'end': np.float64(166.54)}, {'text': 'دهاقا', 'start': np.float64(166.54), 'end': np.float64(167.23999999999998)}, {'text': 'لا', 'start': np.float64(168.34), 'end': np.float64(168.72)}, {'text': 'يسمعون', 'start': np.float64(168.72), 'end': np.float64(169.66)}, {'text': 'فيها', 'start': np.float64(169.66), 'end': np.float64(170.26)}, {'text': 'لغوا', 'start': np.float64(170.26), 'end': np.float64(171.24)}, {'text': 'ولا', 'start': np.float64(171.24), 'end': np.float64(171.78)}, {'text': 'كذابا', 'start': np.float64(171.78), 'end': np.float64(172.48)}, {'text': 'جزاء', 'start': np.float64(173.5), 'end': np.float64(174.9)}, {'text': 'من', 'start': np.float64(174.9), 'end': np.float64(175.44)}, {'text': 'ربك', 'start': np.float64(175.44), 'end': np.float64(176.08)}, {'text': 'عطاء', 'start': np.float64(176.08), 'end': np.float64(177.86)}, {'text': 'حسابا', 'start': np.float64(177.86), 'end': np.float64(178.56)}, {'text': 'رب', 'start': np.float64(179.44), 'end': np.float64(179.86)}, {'text': 'السماوات', 'start': np.float64(179.86), 'end': np.float64(180.9)}, {'text': 'والأرض', 'start': np.float64(180.9), 'end': np.float64(181.56)}, {'text': 'وما', 'start': np.float64(181.56), 'end': np.float64(182.16)}, {'text': 'بينهما', 'start': np.float64(182.16), 'end': np.float64(182.98)}, {'text': 'الرحمن', 'start': np.float64(182.98), 'end': np.float64(185.4)}, {'text': 'لا', 'start': np.float64(185.4), 'end': np.float64(186.94)}, {'text': 'يملكون', 'start': np.float64(186.94), 'end': np.float64(187.92)}, {'text': 'منه', 'start': np.float64(187.92), 'end': np.float64(188.46)}, {'text': 'خطابا', 'start': np.float64(188.46), 'end': np.float64(189.16)}, {'text': 'يوم', 'start': np.float64(189.84), 'end': np.float64(190.32)}, {'text': 'يقوم', 'start': np.float64(190.32), 'end': np.float64(191.04)}, {'text': 'الروح', 'start': np.float64(191.04), 'end': np.float64(191.76)}, {'text': 'والملائك', 'start': np.float64(191.76), 'end': np.float64(194.4)}, {'text': 'تصفا', 'start': np.float64(194.4), 'end': np.float64(200.58)}, {'text': 'لا', 'start': np.float64(200.58), 'end': np.float64(201.18)}, {'text': 'يتكلمون', 'start': np.float64(201.18), 'end': np.float64(216.5)}, {'text': 'إلا', 'start': np.float64(216.84), 'end': np.float64(217.14)}, {'text': 'من', 'start': np.float64(217.14), 'end': np.float64(217.58)}, {'text': 'أدن', 'start': np.float64(217.58), 'end': np.float64(218.12)}, {'text': 'له', 'start': np.float64(218.12), 'end': np.float64(218.46)}, {'text': 'الرحمن', 'start': np.float64(218.46), 'end': np.float64(224.24)}, {'text': 'وقان', 'start': np.float64(224.24), 'end': np.float64(225.16)}, {'text': 'صابا', 'start': np.float64(225.16), 'end': np.float64(226.76)}, {'text': 'ذلك', 'start': np.float64(226.76), 'end': np.float64(227.58)}, {'text': 'اليوم', 'start': np.float64(227.58), 'end': np.float64(228.32)}, {'text': 'الحق', 'start': np.float64(228.32), 'end': np.float64(229.38)}, {'text': 'فمن', 'start': np.float64(229.74), 'end': np.float64(231.06)}, {'text': 'شاء', 'start': np.float64(231.06), 'end': np.float64(233.04)}, {'text': 'اتفذ', 'start': np.float64(233.04), 'end': np.float64(233.72)}, {'text': 'إلى', 'start': np.float64(233.72), 'end': np.float64(234.22)}, {'text': 'ربه', 'start': np.float64(234.22), 'end': np.float64(235.08)}, {'text': 'مآبا', 'start': np.float64(235.08), 'end': np.float64(236.54)}, {'text': 'إنا', 'start': np.float64(238.72), 'end': np.float64(240.12)}, {'text': 'أنذر', 'start': np.float64(240.12), 'end': np.float64(242.24)}, {'text': 'لكم', 'start': np.float64(242.24), 'end': np.float64(242.9)}, {'text': 'عذابا', 'start': np.float64(242.9), 'end': np.float64(244.96)}, {'text': 'قريبا', 'start': np.float64(244.96), 'end': np.float64(245.66)}, {'text': 'يوم', 'start': np.float64(246.28), 'end': np.float64(246.82)}, {'text': 'ينظر', 'start': np.float64(246.82), 'end': np.float64(248.0)}, {'text': 'المرء', 'start': np.float64(248.0), 'end': np.float64(248.62)}, {'text': 'ما', 'start': np.float64(248.62), 'end': np.float64(249.22)}, {'text': 'قدمت', 'start': np.float64(249.22), 'end': np.float64(250.1)}, {'text': 'يداه', 'start': np.float64(250.1), 'end': np.float64(259.92)}, {'text': 'ويقول', 'start': np.float64(260.18), 'end': np.float64(261.14)}, {'text': 'الكافر', 'start': np.float64(261.14), 'end': np.float64(262.24)}, {'text': 'يا', 'start': np.float64(262.24), 'end': np.float64(262.82)}, {'text': 'ليتني', 'start': np.float64(262.82), 'end': np.float64(263.94)}, {'text': 'كنت', 'start': np.float64(263.94), 'end': np.float64(265.44)}, {'text': 'ترابا', 'start': np.float64(265.44), 'end': np.float64(267.6)}]\n"
     ]
    }
   ],
   "source": [
    "print(whisper_words)"
   ]
  },
  {
   "cell_type": "code",
   "execution_count": 95,
   "metadata": {},
   "outputs": [
    {
     "name": "stdout",
     "output_type": "stream",
     "text": [
      "Warning: No alignment for verse 1:1\n",
      "SRT file generated successfully: subtitles/001.srt\n"
     ]
    }
   ],
   "source": [
    "import re\n",
    "import json\n",
    "from difflib import SequenceMatcher\n",
    "\n",
    "def normalize_arabic(text):\n",
    "    # Remove leading/trailing whitespace\n",
    "    text = text.strip()\n",
    "    # Remove optional leading numbers with punctuation and spaces\n",
    "    text = re.sub(r'^\\s*[0-9]+[.:،]?\\s*', '', text)\n",
    "    # Remove tatweel and diacritics\n",
    "    text = re.sub(r'[\\u0640]', '', text)\n",
    "    text = re.sub(r'[\\u064b-\\u065f]', '', text)\n",
    "    # Remove extra spaces\n",
    "    text = re.sub(r'\\s+', ' ', text).strip()\n",
    "    return text\n",
    "\n",
    "def to_srt_time(seconds):\n",
    "    hours = int(seconds // 3600)\n",
    "    minutes = int((seconds % 3600) // 60)\n",
    "    secs = seconds % 60\n",
    "    return f\"{hours:02}:{minutes:02}:{secs:06.3f}\".replace('.', ',')\n",
    "\n",
    "# === Load data ===\n",
    "# Quran JSON (format: { \"78:1\": \"text\", \"78:2\": \"text\", ... } for surah Naba, for example)\n",
    "with open('quran.json', encoding='utf-8') as f:\n",
    "    quran = json.load(f)\n",
    "with open('translation.json', encoding='utf-8') as f:\n",
    "    translations = json.load(f)\n",
    "\n",
    "# Assume whisper_output is defined and contains word-level timestamps.\n",
    "# Example: whisper_output['segments'] is a list of segments; each segment has a \"words\" list.\n",
    "whisper_words = []\n",
    "for segment in whisper_output['segments']:\n",
    "    for word_info in segment['words']:\n",
    "        word = normalize_arabic(word_info['word'])\n",
    "        if word:  # skip empty tokens\n",
    "            whisper_words.append({\n",
    "                'text': word,\n",
    "                'start': word_info['start'],\n",
    "                'end': word_info['end']\n",
    "            })\n",
    "\n",
    "# === Build the expected sequence for the surah ===\n",
    "# For this example, we assume we are aligning surah Naba (surah number 78).\n",
    "# Filter verses that start with \"78:\" (adjust as needed)\n",
    "surah = \"1\"\n",
    "filtered_verses = sorted([vk for vk in quran.keys() if vk.startswith(surah + \":\")],\n",
    "                          key=lambda x: int(x.split(':')[1]))\n",
    "expected_words = []    # list of words for the entire surah\n",
    "verse_boundaries = {}  # map verse key to a tuple (start_index, end_index) in expected_words\n",
    "\n",
    "for vk in filtered_verses:\n",
    "    verse_text = normalize_arabic(quran[vk])\n",
    "    words = verse_text.split()\n",
    "    start_idx = len(expected_words)\n",
    "    expected_words.extend(words)\n",
    "    end_idx = len(expected_words) - 1\n",
    "    verse_boundaries[vk] = (start_idx, end_idx)\n",
    "\n",
    "# === Build the transcribed word sequence from Whisper ===\n",
    "transcribed_words = [w['text'] for w in whisper_words]\n",
    "\n",
    "# === Global alignment using SequenceMatcher ===\n",
    "matcher = SequenceMatcher(None, expected_words, transcribed_words)\n",
    "matching_blocks = matcher.get_matching_blocks()\n",
    "# matching_blocks is a list of triples (i, j, n)\n",
    "# where expected_words[i:i+n] == transcribed_words[j:j+n]\n",
    "\n",
    "# We'll build a mapping from each expected word index to a transcribed word index.\n",
    "# For indices that are matched, we record the transcribed index.\n",
    "mapping = {}\n",
    "for block in matching_blocks:\n",
    "    for offset in range(block.size):\n",
    "        mapping[block.a + offset] = block.b + offset\n",
    "\n",
    "# === Now, for each verse, determine the corresponding timestamps ===\n",
    "subtitles = []\n",
    "for vk, (exp_start, exp_end) in verse_boundaries.items():\n",
    "    # We want to find the earliest and latest transcribed indices corresponding to this verse.\n",
    "    trans_indices = [mapping[i] for i in range(exp_start, exp_end + 1) if i in mapping]\n",
    "    if not trans_indices:\n",
    "        print(f\"Warning: No alignment for verse {vk}\")\n",
    "        continue\n",
    "    t_start = min(trans_indices)\n",
    "    t_end = max(trans_indices)\n",
    "    # Get timestamps from whisper_words\n",
    "    if t_start < len(whisper_words) and t_end < len(whisper_words):\n",
    "        start_time = whisper_words[t_start]['start']\n",
    "        end_time = whisper_words[t_end]['end']\n",
    "        subtitles.append({\n",
    "            'verse': vk,\n",
    "            'start': start_time,\n",
    "            'end': end_time,\n",
    "            'translation': translations.get(vk, \"Translation not found\")\n",
    "        })\n",
    "    else:\n",
    "        print(f\"Index error for verse {vk}\")\n",
    "\n",
    "# === Generate SRT file ===\n",
    "srt_lines = []\n",
    "for idx, sub in enumerate(subtitles, 1):\n",
    "    start = to_srt_time(sub['start'])\n",
    "    end = to_srt_time(sub['end'])\n",
    "    srt_lines.append(f\"{idx}\\n{start} --> {end}\\n{sub['translation']}\\n\")\n",
    "\n",
    "# For example, if input_file is defined (like \"078.mp3\"), then:\n",
    "output_file = f\"subtitles/{input_file.split('/')[-1].split('.')[0]}.srt\"\n",
    "with open(output_file, 'w', encoding='utf-8') as f:\n",
    "    f.write('\\n'.join(srt_lines))\n",
    "\n",
    "print(f\"SRT file generated successfully: {output_file}\")\n"
   ]
  },
  {
   "cell_type": "code",
   "execution_count": null,
   "metadata": {},
   "outputs": [],
   "source": []
  }
 ],
 "metadata": {
  "kernelspec": {
   "display_name": "Python 3",
   "language": "python",
   "name": "python3"
  },
  "language_info": {
   "codemirror_mode": {
    "name": "ipython",
    "version": 3
   },
   "file_extension": ".py",
   "mimetype": "text/x-python",
   "name": "python",
   "nbconvert_exporter": "python",
   "pygments_lexer": "ipython3",
   "version": "3.11.9"
  }
 },
 "nbformat": 4,
 "nbformat_minor": 2
}
