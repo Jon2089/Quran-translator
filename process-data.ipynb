{
 "cells": [
  {
   "cell_type": "code",
   "execution_count": 1,
   "metadata": {},
   "outputs": [
    {
     "name": "stdout",
     "output_type": "stream",
     "text": [
      "quran.json and translation.json files have been created successfully.\n"
     ]
    }
   ],
   "source": [
    "import os\n",
    "import json\n",
    "\n",
    "# Define paths\n",
    "arabic_path = \"quran-json/share/quran-json/TheNobleQuran/ar\"\n",
    "english_path = \"quran-json/share/quran-json/TheNobleQuran/en\"\n",
    "\n",
    "# Dictionaries to store final outputs\n",
    "quran_dict = {}\n",
    "translation_dict = {}\n",
    "\n",
    "# Process all Surahs (1 to 114)\n",
    "for surah_num in range(1, 115):\n",
    "    arabic_file = os.path.join(arabic_path, f\"{surah_num}.json\")\n",
    "    english_file = os.path.join(english_path, f\"{surah_num}.json\")\n",
    "\n",
    "    # Read Arabic JSON\n",
    "    if os.path.exists(arabic_file):\n",
    "        with open(arabic_file, \"r\", encoding=\"utf-8\") as f:\n",
    "            arabic_data = json.load(f)\n",
    "        for ayah in arabic_data[1:]:  # Skip metadata (first element)\n",
    "            ayah_num, ayah_text = ayah\n",
    "            quran_dict[f\"{surah_num}:{ayah_num}\"] = ayah_text\n",
    "\n",
    "    # Read English JSON\n",
    "    if os.path.exists(english_file):\n",
    "        with open(english_file, \"r\", encoding=\"utf-8\") as f:\n",
    "            english_data = json.load(f)\n",
    "        for ayah in english_data[1:]:\n",
    "            ayah_num, ayah_text = ayah\n",
    "            translation_dict[f\"{surah_num}:{ayah_num}\"] = ayah_text\n",
    "\n",
    "# Save Quran Arabic text\n",
    "with open(\"quran.json\", \"w\", encoding=\"utf-8\") as f:\n",
    "    json.dump(quran_dict, f, ensure_ascii=False, indent=2)\n",
    "\n",
    "# Save Quran English translations\n",
    "with open(\"translation.json\", \"w\", encoding=\"utf-8\") as f:\n",
    "    json.dump(translation_dict, f, ensure_ascii=False, indent=2)\n",
    "\n",
    "print(\"quran.json and translation.json files have been created successfully.\")\n"
   ]
  },
  {
   "cell_type": "code",
   "execution_count": null,
   "metadata": {},
   "outputs": [],
   "source": []
  }
 ],
 "metadata": {
  "kernelspec": {
   "display_name": "Python 3",
   "language": "python",
   "name": "python3"
  },
  "language_info": {
   "codemirror_mode": {
    "name": "ipython",
    "version": 3
   },
   "file_extension": ".py",
   "mimetype": "text/x-python",
   "name": "python",
   "nbconvert_exporter": "python",
   "pygments_lexer": "ipython3",
   "version": "3.11.9"
  }
 },
 "nbformat": 4,
 "nbformat_minor": 2
}
